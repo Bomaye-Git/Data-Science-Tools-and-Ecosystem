{
 "cells": [
  {
   "cell_type": "markdown",
   "id": "4674b59e-1366-4def-879a-1079d1153b4f",
   "metadata": {},
   "source": [
    "# Data Science Tools and Ecosystem"
   ]
  },
  {
   "cell_type": "markdown",
   "id": "c7c96ba2-7e97-4ff8-9044-5b5c933d9218",
   "metadata": {},
   "source": [
    "# In this notebook, Data Science Tools and Ecosystem are summarized."
   ]
  },
  {
   "cell_type": "markdown",
   "id": "ad68cedb-18e3-435b-b367-3a916dbec519",
   "metadata": {},
   "source": [
    "**Objectives**\n",
    "\n",
    "- Python\n",
    "- R\n",
    "- SQL\n",
    "- Julia\n",
    "- Scala"
   ]
  },
  {
   "cell_type": "markdown",
   "id": "587ecfaf-1136-4ff2-a983-9902e9bec6ab",
   "metadata": {},
   "source": [
    "# Some of the popular languages that Data Scientists use are:\n",
    "\n",
    "1. Python\n",
    "2. R\n",
    "3. SQL"
   ]
  },
  {
   "cell_type": "markdown",
   "id": "edf2bedb-5467-449b-b077-2efb6571f052",
   "metadata": {},
   "source": [
    "# Some of the commonly used libraries used by Data Scientists include:\n",
    "\n",
    "1. NumPy\n",
    "2. Scikit-learn\n",
    "3. TensorFlow"
   ]
  },
  {
   "cell_type": "markdown",
   "id": "6b1b071e-214c-4253-a095-bf02c9597903",
   "metadata": {},
   "source": [
    "| Data Science Tools  |\n",
    "|:-------------------:|\n",
    "| Jupyter Notebook    |\n",
    "| RStudio             |\n",
    "| Apache Zeppelin     |"
   ]
  },
  {
   "cell_type": "markdown",
   "id": "da2f4004-1431-4a90-b08d-d472cf62d674",
   "metadata": {},
   "source": [
    "### Below are a few examples of evaluating arithmetic expressions in Python\n",
    "\n",
    "- Addition: 5 + 5 = 10\n",
    "- Subtraction: 10 - 5 = 5\n",
    "- Multiplication: 3 * 2 = 6\n",
    "- Division: 20 / 5 = 4"
   ]
  },
  {
   "cell_type": "code",
   "execution_count": 4,
   "id": "77ea5661-2b3b-4daa-8e6c-480258d82d95",
   "metadata": {},
   "outputs": [
    {
     "data": {
      "text/plain": [
       "17"
      ]
     },
     "execution_count": 4,
     "metadata": {},
     "output_type": "execute_result"
    }
   ],
   "source": [
    "# This a simple arithmetic expression to mutiply then add integers\n",
    "\n",
    "(3*4)+5"
   ]
  },
  {
   "cell_type": "code",
   "execution_count": 5,
   "id": "a9c39bb1-1d97-4ac6-8316-29c5113247f0",
   "metadata": {},
   "outputs": [
    {
     "data": {
      "text/plain": [
       "3.3333333333333335"
      ]
     },
     "execution_count": 5,
     "metadata": {},
     "output_type": "execute_result"
    }
   ],
   "source": [
    "# This will convert 200 minutes to hours by dividing by 60\n",
    "\n",
    "200/60"
   ]
  },
  {
   "cell_type": "markdown",
   "id": "f273cf72-2021-4aa8-8fe7-b5a3e9093d33",
   "metadata": {},
   "source": [
    "## Author\n",
    "\n",
    "Adams Ali"
   ]
  },
  {
   "cell_type": "code",
   "execution_count": null,
   "id": "d131c64b-0e1b-48cf-ad4e-202bb32cd095",
   "metadata": {},
   "outputs": [],
   "source": []
  }
 ],
 "metadata": {
  "kernelspec": {
   "display_name": "Python 3 (ipykernel)",
   "language": "python",
   "name": "python3"
  },
  "language_info": {
   "codemirror_mode": {
    "name": "ipython",
    "version": 3
   },
   "file_extension": ".py",
   "mimetype": "text/x-python",
   "name": "python",
   "nbconvert_exporter": "python",
   "pygments_lexer": "ipython3",
   "version": "3.12.7"
  }
 },
 "nbformat": 4,
 "nbformat_minor": 5
}
